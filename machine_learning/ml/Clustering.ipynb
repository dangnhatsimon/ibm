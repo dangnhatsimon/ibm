{
 "cells": [
  {
   "cell_type": "markdown",
   "metadata": {},
   "source": [
    "<p style=\"text-align:center\">\n",
    "    <a href=\"https://skills.network/?utm_medium=Exinfluencer&utm_source=Exinfluencer&utm_content=000026UJ&utm_term=10006555&utm_id=NA-SkillsNetwork-Channel-SkillsNetworkCoursesIBMBD0231ENSkillsNetwork866-2023-01-01\">\n",
    "    <img src=\"https://cf-courses-data.s3.us.cloud-object-storage.appdomain.cloud/assets/logos/SN_web_lightmode.png\" width=\"200\" alt=\"Skills Network Logo\"  />\n",
    "    </a>\n",
    "</p>\n"
   ]
  },
  {
   "cell_type": "markdown",
   "metadata": {},
   "source": [
    "## Customer Clustering with KMeans to Boost Business Strategy\n"
   ]
  },
  {
   "cell_type": "markdown",
   "metadata": {},
   "source": [
    "Estimated time needed: **30** minutes\n"
   ]
  },
  {
   "cell_type": "markdown",
   "metadata": {},
   "source": [
    "<p style='color: red'>The purpose of this lab is to show you how to use the KMeans algorithm to cluster customer data.</p>\n"
   ]
  },
  {
   "cell_type": "markdown",
   "metadata": {},
   "source": [
    "## __Table of Contents__\n",
    "<ol>\n",
    "  <li>\n",
    "    <a href=\"#Objectives\">Objectives\n",
    "    </a>\n",
    "  </li>\n",
    "  <li>\n",
    "    <a href=\"#Datasets\">Datasets\n",
    "    </a>\n",
    "  </li>\n",
    "  <li>\n",
    "    <a href=\"#Setup\">Setup\n",
    "    </a>\n",
    "    <ol>\n",
    "      <li>\n",
    "        <a href=\"#Installing-Required-Libraries\">Installing Required Libraries\n",
    "        </a>\n",
    "      </li>\n",
    "      <li>\n",
    "        <a href=\"#Importing-Required-Libraries\">Importing Required Libraries\n",
    "        </a>\n",
    "      </li>\n",
    "    </ol>\n",
    "  </li>\n",
    "  <li>\n",
    "    <a href=\"#Examples\">Examples\n",
    "    </a>\n",
    "    <ol>\n",
    "      <li>\n",
    "        <a href=\"#Task-1---Load-the-data-in-a-csv-file-into-a-dataframe\">Task 1 - Load the data in a csv file into a dataframe\n",
    "        </a>\n",
    "      </li>\n",
    "      <li>\n",
    "        <a href=\"#Task-2---Decide-how-many-clusters-to-create\">Task 2 - Decide how many clusters to create\n",
    "        </a>\n",
    "      </li>\n",
    "      <li>\n",
    "        <a href=\"#Task-3---Create-a-clustering-model\">Task 3 - Create a clustering model\n",
    "        </a>\n",
    "      </li>\n",
    "      <li>\n",
    "        <a href=\"#Task-4---Make-Predictions\">Task 4 - Make Predictions\n",
    "        </a>\n",
    "      </li>        \n",
    "    </ol>\n",
    "  </li>\n",
    "\n",
    "  <li>\n",
    "    <a href=\"#Exercises\">Exercises\n",
    "    </a>\n",
    "  </li>\n",
    "  <ol>\n",
    "    <li>\n",
    "      <a href=\"#Exercise-1---Load-the-data-in-a-csv-file-into-a-dataframe\">Exercise 1 - Load the data in a csv file into a dataframe\n",
    "      </a>\n",
    "    </li>\n",
    "    <li>\n",
    "      <a href=\"#Exercise-2---Decide-how-many-clusters-to-create\">Exercise 2 - Decide how many clusters to create\n",
    "      </a>\n",
    "    </li>\n",
    "    <li>\n",
    "      <a href=\"#Exercise-3---Create-a-clustering-model\">Exercise 3 - Create a clustering model\n",
    "      </a>\n",
    "    </li>\n",
    "    <li>\n",
    "      <a href=\"#Exercise-4---Make-Predictions\">Exercise 4 - Make Predictions\n",
    "      </a>\n",
    "    </li>\n",
    "  </ol>\n",
    "</ol>\n",
    "\n",
    "\n",
    "\n",
    "\n",
    "\n",
    "\n",
    "\n",
    "\n",
    "\n",
    "\n",
    "\n",
    "\n"
   ]
  },
  {
   "cell_type": "markdown",
   "metadata": {},
   "source": [
    "## Objectives\n",
    "\n",
    "After completing this lab you will be able to:\n",
    "\n",
    " - Use Pandas to load data sets.\n",
    " - Use K Means algorithm to cluter the data.\n",
    "\n"
   ]
  },
  {
   "cell_type": "markdown",
   "metadata": {},
   "source": [
    "## Datasets\n",
    "\n",
    "In this lab you will be using dataset(s):\n",
    "\n",
    " - Modified version of Wholesale customers dataset. Original dataset available at https://archive.ics.uci.edu/ml/datasets/Wholesale+customers \n",
    " - Seeds dataset. Available at https://archive.ics.uci.edu/ml/datasets/seeds\n",
    " \n"
   ]
  },
  {
   "cell_type": "markdown",
   "metadata": {},
   "source": [
    "## Setup\n"
   ]
  },
  {
   "cell_type": "markdown",
   "metadata": {},
   "source": [
    "For this lab, we will be using the following libraries:\n",
    "\n",
    "*   [`pandas`](https://pandas.pydata.org/?utm_medium=Exinfluencer&utm_source=Exinfluencer&utm_content=000026UJ&utm_term=10006555&utm_id=NA-SkillsNetwork-Channel-SkillsNetworkCoursesIBMML0187ENSkillsNetwork31430127-2021-01-01) for managing the data.\n",
    "*   [`sklearn`](https://scikit-learn.org/stable/?utm_medium=Exinfluencer&utm_source=Exinfluencer&utm_content=000026UJ&utm_term=10006555&utm_id=NA-SkillsNetwork-Channel-SkillsNetworkCoursesIBMML0187ENSkillsNetwork31430127-2021-01-01) for machine learning and machine-learning-pipeline related functions.\n"
   ]
  },
  {
   "cell_type": "markdown",
   "metadata": {},
   "source": [
    "### Installing Required Libraries\n",
    "\n",
    "The following required libraries are pre-installed in the Skills Network Labs environment. However, if you run this notebook commands in a different Jupyter environment (e.g. Watson Studio or Ananconda), you will need to install these libraries by removing the `#` sign before `!pip` in the code cell below.\n"
   ]
  },
  {
   "cell_type": "code",
   "execution_count": 1,
   "metadata": {
    "tags": []
   },
   "outputs": [],
   "source": [
    "# All Libraries required for this lab are listed below. The libraries pre-installed on Skills Network Labs are commented.\n",
    "# !pip install pandas==1.3.4\n",
    "# !pip install scikit-learn==0.20.1\n"
   ]
  },
  {
   "cell_type": "markdown",
   "metadata": {},
   "source": [
    "The following required libraries are __not__ pre-installed in the Skills Network Labs environment. __You will need to run the following cell__ to install them:\n"
   ]
  },
  {
   "cell_type": "code",
   "execution_count": 2,
   "metadata": {
    "tags": []
   },
   "outputs": [],
   "source": [
    "#None"
   ]
  },
  {
   "cell_type": "markdown",
   "metadata": {},
   "source": [
    "### Importing Required Libraries\n",
    "\n",
    "_We recommend you import all required libraries in one place (here):_\n"
   ]
  },
  {
   "cell_type": "code",
   "execution_count": 3,
   "metadata": {
    "tags": []
   },
   "outputs": [],
   "source": [
    "# You can also use this section to suppress warnings generated by your code:\n",
    "def warn(*args, **kwargs):\n",
    "    pass\n",
    "import warnings\n",
    "warnings.warn = warn\n",
    "warnings.filterwarnings('ignore')\n",
    "\n",
    "import pandas as pd\n",
    "from sklearn.cluster import KMeans\n",
    "from sklearn.datasets import make_blobs\n",
    "import matplotlib.pyplot as plt"
   ]
  },
  {
   "cell_type": "markdown",
   "metadata": {},
   "source": [
    "## Clustering demo with generated sample data\n"
   ]
  },
  {
   "cell_type": "code",
   "execution_count": 25,
   "metadata": {
    "tags": []
   },
   "outputs": [],
   "source": [
    "# Generate sample data for clustering\n",
    "X, y = make_blobs(n_samples=300, centers=4, cluster_std=0.6, random_state=0)\n",
    "\n",
    "# X now contains 300 rows of data spread across 4 clusters that was generated by the make_blobs function.\n",
    "# In real life we would use an existing data set."
   ]
  },
  {
   "cell_type": "code",
   "execution_count": 26,
   "metadata": {
    "tags": []
   },
   "outputs": [
    {
     "data": {
      "text/plain": [
       "KMeans(algorithm='auto', copy_x=True, init='k-means++', max_iter=300,\n",
       "    n_clusters=4, n_init=10, n_jobs=None, precompute_distances='auto',\n",
       "    random_state=None, tol=0.0001, verbose=0)"
      ]
     },
     "execution_count": 26,
     "metadata": {},
     "output_type": "execute_result"
    }
   ],
   "source": [
    "# Apply k-means clustering\n",
    "kmeans = KMeans(n_clusters=4)\n",
    "kmeans.fit(X)"
   ]
  },
  {
   "cell_type": "code",
   "execution_count": 27,
   "metadata": {
    "tags": []
   },
   "outputs": [
    {
     "data": {
      "text/plain": [
       "KMeans(algorithm='auto', copy_x=True, init='k-means++', max_iter=300,\n",
       "    n_clusters=4, n_init=10, n_jobs=None, precompute_distances='auto',\n",
       "    random_state=None, tol=0.0001, verbose=0)"
      ]
     },
     "execution_count": 27,
     "metadata": {},
     "output_type": "execute_result"
    }
   ],
   "source": [
    "kmeans"
   ]
  },
  {
   "cell_type": "code",
   "execution_count": 28,
   "metadata": {
    "tags": []
   },
   "outputs": [
    {
     "data": {
      "text/plain": [
       "array([[-1.58438467,  2.83081263],\n",
       "       [ 0.94973532,  4.41906906],\n",
       "       [ 1.98258281,  0.86771314],\n",
       "       [-1.37324398,  7.75368871]])"
      ]
     },
     "execution_count": 28,
     "metadata": {},
     "output_type": "execute_result"
    }
   ],
   "source": [
    "# Print cluster centers\n",
    "kmeans.cluster_centers_"
   ]
  },
  {
   "cell_type": "code",
   "execution_count": 29,
   "metadata": {
    "tags": []
   },
   "outputs": [
    {
     "data": {
      "image/png": "[encoded data removed]",
      "text/plain": [
       "<Figure size 640x480 with 1 Axes>"
      ]
     },
     "metadata": {},
     "output_type": "display_data"
    }
   ],
   "source": [
    "# Plot the clusters and cluster centers\n",
    "plt.scatter(X[:, 0], X[:, 1], c=kmeans.labels_, cmap='viridis')\n",
    "plt.scatter(kmeans.cluster_centers_[:, 0], kmeans.cluster_centers_[:, 1], marker='*', s=400, color='black')\n",
    "plt.show()"
   ]
  },
  {
   "cell_type": "markdown",
   "metadata": {},
   "source": [
    "End of Demo\n"
   ]
  },
  {
   "cell_type": "markdown",
   "metadata": {},
   "source": [
    "# Examples\n"
   ]
  },
  {
   "cell_type": "markdown",
   "metadata": {},
   "source": [
    "## Task 1 - Load the data in a csv file into a dataframe\n"
   ]
  },
  {
   "cell_type": "code",
   "execution_count": 8,
   "metadata": {
    "tags": []
   },
   "outputs": [],
   "source": [
    "# the data set is available at the url below.\n",
    "URL = \"https://cf-courses-data.s3.us.cloud-object-storage.appdomain.cloud/IBM-BD0231EN-SkillsNetwork/datasets/customers.csv\"\n",
    "\n",
    "# using the read_csv function in the pandas library, we load the data into a dataframe.\n",
    "\n",
    "df = pd.read_csv(URL)"
   ]
  },
  {
   "cell_type": "markdown",
   "metadata": {},
   "source": [
    "Let's look at some sample rows from the dataset we loaded:\n"
   ]
  },
  {
   "cell_type": "code",
   "execution_count": 9,
   "metadata": {
    "tags": []
   },
   "outputs": [
    {
     "data": {
      "text/html": [
       "<div>\n",
       "<style scoped>\n",
       "    .dataframe tbody tr th:only-of-type {\n",
       "        vertical-align: middle;\n",
       "    }\n",
       "\n",
       "    .dataframe tbody tr th {\n",
       "        vertical-align: top;\n",
       "    }\n",
       "\n",
       "    .dataframe thead th {\n",
       "        text-align: right;\n",
       "    }\n",
       "</style>\n",
       "<table border=\"1\" class=\"dataframe\">\n",
       "  <thead>\n",
       "    <tr style=\"text-align: right;\">\n",
       "      <th></th>\n",
       "      <th>Fresh_Food</th>\n",
       "      <th>Milk</th>\n",
       "      <th>Grocery</th>\n",
       "      <th>Frozen_Food</th>\n",
       "    </tr>\n",
       "  </thead>\n",
       "  <tbody>\n",
       "    <tr>\n",
       "      <th>115</th>\n",
       "      <td>11134</td>\n",
       "      <td>793</td>\n",
       "      <td>2988</td>\n",
       "      <td>2715</td>\n",
       "    </tr>\n",
       "    <tr>\n",
       "      <th>370</th>\n",
       "      <td>39679</td>\n",
       "      <td>3944</td>\n",
       "      <td>4955</td>\n",
       "      <td>1364</td>\n",
       "    </tr>\n",
       "    <tr>\n",
       "      <th>135</th>\n",
       "      <td>6300</td>\n",
       "      <td>1289</td>\n",
       "      <td>2591</td>\n",
       "      <td>1170</td>\n",
       "    </tr>\n",
       "    <tr>\n",
       "      <th>366</th>\n",
       "      <td>9561</td>\n",
       "      <td>2217</td>\n",
       "      <td>1664</td>\n",
       "      <td>1173</td>\n",
       "    </tr>\n",
       "    <tr>\n",
       "      <th>3</th>\n",
       "      <td>13265</td>\n",
       "      <td>1196</td>\n",
       "      <td>4221</td>\n",
       "      <td>6404</td>\n",
       "    </tr>\n",
       "  </tbody>\n",
       "</table>\n",
       "</div>"
      ],
      "text/plain": [
       "     Fresh_Food  Milk  Grocery  Frozen_Food\n",
       "115       11134   793     2988         2715\n",
       "370       39679  3944     4955         1364\n",
       "135        6300  1289     2591         1170\n",
       "366        9561  2217     1664         1173\n",
       "3         13265  1196     4221         6404"
      ]
     },
     "execution_count": 9,
     "metadata": {},
     "output_type": "execute_result"
    }
   ],
   "source": [
    "# show 5 random rows from the dataset\n",
    "df.sample(5)"
   ]
  },
  {
   "cell_type": "markdown",
   "metadata": {},
   "source": [
    "Let's find out the number of rows and columns in the dataset:\n"
   ]
  },
  {
   "cell_type": "code",
   "execution_count": 10,
   "metadata": {
    "tags": []
   },
   "outputs": [
    {
     "data": {
      "text/plain": [
       "(440, 4)"
      ]
     },
     "execution_count": 10,
     "metadata": {},
     "output_type": "execute_result"
    }
   ],
   "source": [
    "df.shape"
   ]
  },
  {
   "cell_type": "markdown",
   "metadata": {},
   "source": [
    "Let's plot the histograms of all columns\n"
   ]
  },
  {
   "cell_type": "code",
   "execution_count": 11,
   "metadata": {
    "tags": []
   },
   "outputs": [
    {
     "data": {
      "text/plain": [
       "array([[<AxesSubplot:title={'center':'Fresh_Food'}>,\n",
       "        <AxesSubplot:title={'center':'Milk'}>],\n",
       "       [<AxesSubplot:title={'center':'Grocery'}>,\n",
       "        <AxesSubplot:title={'center':'Frozen_Food'}>]], dtype=object)"
      ]
     },
     "execution_count": 11,
     "metadata": {},
     "output_type": "execute_result"
    },
    {
     "data": {
      "image/png": "[encoded data removed]",
      "text/plain": [
       "<Figure size 640x480 with 4 Axes>"
      ]
     },
     "metadata": {},
     "output_type": "display_data"
    }
   ],
   "source": [
    "df.hist()"
   ]
  },
  {
   "cell_type": "markdown",
   "metadata": {},
   "source": [
    "## Task 2 - Decide how many clusters to create\n"
   ]
  },
  {
   "cell_type": "markdown",
   "metadata": {},
   "source": [
    "You must tell the KMeans algorithm how many clusters to create out of your data\n"
   ]
  },
  {
   "cell_type": "code",
   "execution_count": 30,
   "metadata": {
    "tags": []
   },
   "outputs": [],
   "source": [
    "number_of_clusters = 3"
   ]
  },
  {
   "cell_type": "markdown",
   "metadata": {},
   "source": [
    "## Task 3 - Create a clustering model\n"
   ]
  },
  {
   "cell_type": "markdown",
   "metadata": {},
   "source": [
    "Create a KMeans clustering model\n"
   ]
  },
  {
   "cell_type": "code",
   "execution_count": 31,
   "metadata": {
    "tags": []
   },
   "outputs": [],
   "source": [
    "cluster = KMeans(n_clusters = number_of_clusters)"
   ]
  },
  {
   "cell_type": "code",
   "execution_count": 42,
   "metadata": {
    "tags": []
   },
   "outputs": [
    {
     "data": {
      "text/plain": [
       "KMeans(algorithm='auto', copy_x=True, init='k-means++', max_iter=300,\n",
       "    n_clusters=4, n_init=10, n_jobs=None, precompute_distances='auto',\n",
       "    random_state=None, tol=0.0001, verbose=0)"
      ]
     },
     "execution_count": 42,
     "metadata": {},
     "output_type": "execute_result"
    }
   ],
   "source": [
    "cluster"
   ]
  },
  {
   "cell_type": "markdown",
   "metadata": {},
   "source": [
    "Train the model on the dataset\n"
   ]
  },
  {
   "cell_type": "code",
   "execution_count": 32,
   "metadata": {
    "tags": []
   },
   "outputs": [],
   "source": [
    "result = cluster.fit_transform(df)"
   ]
  },
  {
   "cell_type": "code",
   "execution_count": 43,
   "metadata": {
    "tags": []
   },
   "outputs": [
    {
     "data": {
      "text/plain": [
       "array([[ 2.17492272,  4.3673438 ,  4.72110781,  1.10576576],\n",
       "       [ 2.1798794 ,  5.32242129,  5.22103831,  2.42021556],\n",
       "       [ 1.01113409,  5.52895926,  3.50033843,  1.91463172],\n",
       "       [ 0.58178131,  6.04835048,  3.52513127,  2.46144769],\n",
       "       [ 3.20429559,  3.99475881,  5.94213884,  1.90875504],\n",
       "       [ 1.06774868,  5.4022417 ,  3.74440961,  1.81264308],\n",
       "       [ 1.88647769,  4.83490175,  3.41910568,  1.24909188],\n",
       "       [ 0.83141424,  5.62328508,  3.3723627 ,  1.97763021],\n",
       "       [ 3.81518881,  2.95608544,  6.15413943,  1.63158649],\n",
       "       [ 3.48258819,  3.26501472,  5.92133008,  1.45462465],\n",
       "       [ 3.03801941,  4.27390635,  3.79634046,  1.45225235],\n",
       "       [ 0.99813647,  5.90083001,  4.08439834,  2.45242966],\n",
       "       [ 1.67777196,  5.86419412,  2.43751334,  2.35312957],\n",
       "       [ 0.85817705,  5.91038215,  2.83788672,  2.25049299],\n",
       "       [ 0.68062073,  5.98056005,  2.95345016,  2.31932581],\n",
       "       [ 2.19821196,  5.17007401,  3.05259703,  1.83341914],\n",
       "       [ 2.91226262,  6.10957374,  2.24736038,  3.0550983 ],\n",
       "       [ 2.63149501,  4.34435752,  5.38733847,  1.67259962],\n",
       "       [ 1.58780696,  5.41895533,  4.48702324,  2.13993776],\n",
       "       [ 1.84676258,  7.08617416,  1.32253631,  3.53377838],\n",
       "       [ 1.19494227,  5.37195395,  3.25292328,  1.71212329],\n",
       "       [ 0.90857972,  5.5210282 ,  3.4165289 ,  1.87303148],\n",
       "       [ 3.19666927,  4.57336844,  6.12321596,  2.46040652],\n",
       "       [ 1.79668573,  8.07403556,  3.66315509,  4.50587548],\n",
       "       [ 2.00202254,  4.79953085,  4.79961402,  1.65061302],\n",
       "       [ 3.49446706,  4.13283728,  6.32052106,  2.34531385],\n",
       "       [ 1.0493718 ,  6.72083391,  2.11582734,  3.07408894],\n",
       "       [ 0.7147164 ,  7.07821073,  2.74139613,  3.4210253 ],\n",
       "       [ 0.88012066,  5.56640545,  3.35398637,  1.91125011],\n",
       "       [ 1.1434643 ,  6.16821397,  2.3277313 ,  2.54357254],\n",
       "       [ 1.58830933,  7.05964673,  4.43610685,  3.70714667],\n",
       "       [ 2.61306467,  3.91679137,  4.34679668,  0.39237089],\n",
       "       [ 1.80879257,  5.39213275,  2.783532  ,  1.89240686],\n",
       "       [ 0.72735317,  5.84570964,  3.71664692,  2.28554696],\n",
       "       [ 1.94934025,  4.61070379,  4.58210049,  1.29189915],\n",
       "       [ 3.03583598,  3.52629793,  5.4102065 ,  1.00571253],\n",
       "       [ 3.26355049,  3.16270434,  5.32295989,  0.68333296],\n",
       "       [ 4.12062538,  2.33980222,  6.06726575,  1.46925099],\n",
       "       [ 1.76469139,  4.7138256 ,  3.76036296,  1.04806077],\n",
       "       [ 4.37541972,  6.23748192,  3.04366926,  3.91010529],\n",
       "       [ 0.29838651,  6.22958095,  3.04159021,  2.58213382],\n",
       "       [ 0.27662249,  6.32437954,  3.30391827,  2.71310563],\n",
       "       [ 0.50808311,  6.797157  ,  2.94303992,  3.15627772],\n",
       "       [ 3.36664297,  4.03869084,  4.05205294,  1.55169198],\n",
       "       [ 2.02976034,  4.45353497,  4.01219046,  0.81798632],\n",
       "       [ 0.96583055,  6.20774235,  4.07394094,  2.76415098],\n",
       "       [ 2.44689019,  4.66291616,  5.32163298,  1.89487385],\n",
       "       [ 1.86494762,  4.57663525,  3.99787798,  0.92926748],\n",
       "       [ 1.59579461,  4.82825609,  3.96542806,  1.21263397],\n",
       "       [ 1.77073891,  4.7886272 ,  4.44019971,  1.40904273],\n",
       "       [ 1.97300848,  5.12834469,  3.01885416,  1.65813772],\n",
       "       [ 4.13661256,  4.23189816,  4.29644742,  2.42915724],\n",
       "       [ 2.22249382,  4.97120492,  3.12082815,  1.61055209],\n",
       "       [ 1.40229803,  5.2543017 ,  3.17850504,  1.60717314],\n",
       "       [ 1.75371707,  5.31449179,  4.68155381,  2.13866003],\n",
       "       [ 2.01526226,  4.66024284,  4.71878123,  1.45846137],\n",
       "       [ 1.26457101,  5.19587109,  3.6184995 ,  1.55491455],\n",
       "       [ 2.09243019,  5.27663352,  5.11285712,  2.31957961],\n",
       "       [ 2.2764547 ,  4.36788017,  4.92087413,  1.27582849],\n",
       "       [ 1.70462513,  7.99233133,  3.63008602,  4.41340298],\n",
       "       [ 2.30687279,  8.64155951,  2.51259413,  4.97511021],\n",
       "       [ 2.56341887,  8.95056518,  2.99580713,  5.29506255],\n",
       "       [ 1.55054219,  7.62130145,  1.98185918,  3.97024227],\n",
       "       [ 1.75327543,  6.48886886,  1.71452509,  2.97299058],\n",
       "       [ 1.43522208,  7.41851826,  4.01578917,  3.93413716],\n",
       "       [ 0.77305127,  7.11708497,  2.94801985,  3.47730164],\n",
       "       [ 1.57233594,  5.65979508,  4.6349023 ,  2.43469368],\n",
       "       [ 0.82709666,  5.69316768,  3.71607761,  2.12372253],\n",
       "       [ 1.50930334,  5.55741176,  4.53104909,  2.29050607],\n",
       "       [ 1.32707887,  6.95474148,  1.81533327,  3.32916008],\n",
       "       [ 5.21733836,  1.5092114 ,  6.58495675,  2.45927674],\n",
       "       [ 4.64521562,  2.5502404 ,  5.63782553,  2.0509801 ],\n",
       "       [ 4.91925317,  2.12892193,  6.04239375,  2.23150765],\n",
       "       [ 6.41743641,  0.66841571,  8.26157667,  3.74919918],\n",
       "       [ 4.27436092,  2.40449595,  5.63912663,  1.54907299],\n",
       "       [ 4.67267202,  2.75803315,  5.51822422,  2.16253161],\n",
       "       [ 4.79985815,  1.78929538,  6.27968239,  2.04114318],\n",
       "       [ 8.55124509,  2.19450077,  9.90066492,  5.78426704],\n",
       "       [ 6.92913801,  1.5660065 ,  7.96467341,  4.19164847],\n",
       "       [ 4.23649215,  2.21198396,  6.20552904,  1.58975197],\n",
       "       [ 4.7867397 ,  3.35657745,  5.2171051 ,  2.54878008],\n",
       "       [ 6.63403498,  1.84391826,  7.55942571,  3.93806529],\n",
       "       [ 8.12100889,  2.11222284,  9.22551875,  5.36072871],\n",
       "       [ 7.10263345,  2.19420749,  9.33590282,  4.70192364],\n",
       "       [ 6.98070354,  0.86997663,  8.79510872,  4.30306543],\n",
       "       [ 5.58111902,  1.34249391,  7.61483065,  3.01789244],\n",
       "       [ 6.21610533,  1.90480464,  8.47047416,  3.83264231],\n",
       "       [ 6.68232388,  0.59248736,  8.22771072,  3.94250482],\n",
       "       [ 9.328046  ,  3.28621529, 10.31431229,  6.57523732],\n",
       "       [ 8.76216447,  2.53984041,  9.9532818 ,  5.99492583],\n",
       "       [ 7.68367914,  2.09648016,  9.75061737,  5.15881359],\n",
       "       [ 6.08406281,  0.51586236,  7.87064127,  3.38443724],\n",
       "       [ 6.1808658 ,  0.36495017,  7.92117038,  3.46571599],\n",
       "       [ 6.8153166 ,  2.53359436,  7.44643167,  4.21843459],\n",
       "       [ 6.48276985,  1.64008222,  7.51191662,  3.77633628],\n",
       "       [ 4.31272709,  2.25247994,  5.83709221,  1.57021018],\n",
       "       [ 6.82456051,  0.44038707,  8.46855951,  4.09018481],\n",
       "       [ 6.4906541 ,  1.4785685 ,  8.55530383,  3.97350432],\n",
       "       [ 5.60230375,  1.09884447,  7.47634403,  2.95555667],\n",
       "       [ 6.07041588,  1.37695146,  8.16834831,  3.54811922],\n",
       "       [ 3.86807965,  2.97478436,  5.08205856,  1.28781135],\n",
       "       [ 5.15535324,  1.89729502,  7.37072132,  2.72935425],\n",
       "       [ 7.03950358,  0.94479057,  8.40567304,  4.27377565],\n",
       "       [ 6.70089679,  0.41533305,  8.38387713,  3.9773013 ],\n",
       "       [ 6.39241912,  0.18084279,  8.07977491,  3.6639229 ],\n",
       "       [ 6.0968058 ,  1.0472466 ,  8.08849316,  3.49652478],\n",
       "       [ 6.15255804,  0.75631879,  8.02810368,  3.4989001 ],\n",
       "       [ 5.02547681,  1.48739427,  6.55675008,  2.25606092],\n",
       "       [ 7.58188581,  1.3040577 ,  9.27761803,  4.87935783],\n",
       "       [ 5.86238922,  1.87262573,  8.12427638,  3.47860268],\n",
       "       [ 5.68618714,  1.46850444,  7.80863035,  3.17165766],\n",
       "       [ 6.92063793,  0.56690256,  8.50746065,  4.17312221],\n",
       "       [ 6.41608574,  1.46368685,  8.5306555 ,  3.90466479],\n",
       "       [ 7.81652137,  3.15433456,  8.29113247,  5.22776737],\n",
       "       [ 8.82993429,  2.50108011, 10.12797865,  6.06078044],\n",
       "       [ 6.45666255,  1.31043488,  8.51086501,  3.90868694],\n",
       "       [ 6.46552669,  0.92222533,  7.8084925 ,  3.70802709],\n",
       "       [ 6.55613769,  0.5073558 ,  8.34009772,  3.86246743],\n",
       "       [ 6.28079499,  0.24866244,  7.87831335,  3.53096577],\n",
       "       [ 7.56920367,  1.31982777,  9.33688296,  4.88139249],\n",
       "       [ 8.44854656,  2.74315568,  9.32065229,  5.72115082],\n",
       "       [ 5.55036617,  0.91478562,  7.14313423,  2.79228478],\n",
       "       [ 3.77536561,  3.14834011,  4.91148735,  1.28041524],\n",
       "       [ 5.63817199,  0.94014347,  7.4939597 ,  2.96314967],\n",
       "       [ 2.98238089,  3.58723535,  4.7750363 ,  0.6133021 ],\n",
       "       [ 6.27254117,  0.7452022 ,  7.65445847,  3.50536711],\n",
       "       [ 6.35163203,  0.92093434,  7.64049651,  3.58487623],\n",
       "       [ 5.15644215,  1.73745086,  7.30042454,  2.66444746],\n",
       "       [ 7.6984288 ,  2.13841682,  9.78783942,  5.180874  ],\n",
       "       [ 5.49394887,  2.50468009,  6.2376498 ,  2.94953139],\n",
       "       [ 5.48686378,  1.13153022,  7.39960911,  2.83979374],\n",
       "       [ 6.25202674,  0.66688623,  8.11484969,  3.58449913],\n",
       "       [ 3.18627756,  4.04744044,  4.01597483,  1.37945266],\n",
       "       [ 3.7670896 ,  3.14628212,  4.90734431,  1.27035795],\n",
       "       [ 3.64365441,  4.03720575,  4.13467432,  1.83815098],\n",
       "       [ 2.51529351,  4.11859542,  4.08135189,  0.68008848],\n",
       "       [ 4.72802706,  1.74138954,  6.35334727,  1.9710364 ],\n",
       "       [ 2.74931219,  3.78162668,  4.90245824,  0.77225146],\n",
       "       [ 2.71125531,  3.75980674,  4.8424031 ,  0.59861905],\n",
       "       [ 3.58757506,  3.04110062,  5.04397105,  0.94174735],\n",
       "       [ 2.93898484,  6.75547258,  1.40832459,  3.58576372],\n",
       "       [ 4.6456415 ,  7.17487387,  2.56043083,  4.66743716],\n",
       "       [ 3.59482792,  6.74133911,  1.86412946,  3.85370631],\n",
       "       [ 3.32951726,  7.81526647,  0.53071506,  4.55027414],\n",
       "       [ 2.65750086,  7.97070439,  0.63643608,  4.47047857],\n",
       "       [ 4.43378376,  8.96854007,  1.33735962,  5.77853915],\n",
       "       [ 2.15368007,  8.50289766,  2.89551897,  4.86080589],\n",
       "       [ 2.24246572,  7.35333666,  0.90140129,  3.85539076],\n",
       "       [ 1.16728293,  6.96968246,  2.03930509,  3.33311525],\n",
       "       [ 4.14545289,  9.2415916 ,  1.26197573,  5.87162992],\n",
       "       [ 3.27885949,  8.12798165,  0.25771661,  4.77208966],\n",
       "       [ 4.81295514,  8.41885605,  1.96018007,  5.55830951],\n",
       "       [ 2.6542731 ,  7.50452801,  0.65488896,  4.09456161],\n",
       "       [ 2.57108373,  8.67532209,  1.90889835,  5.03501097],\n",
       "       [ 2.77398179,  8.49099577,  1.19712446,  4.92239903],\n",
       "       [ 4.16067788,  8.92783953,  1.08336083,  5.65193349],\n",
       "       [ 2.49664714,  8.60332708,  1.8677782 ,  4.96181561],\n",
       "       [ 2.75807118,  7.61333687,  0.61702148,  4.21025257],\n",
       "       [ 2.63918593,  7.96379862,  0.83296617,  4.46406759],\n",
       "       [ 3.62605585,  8.48370288,  0.60028446,  5.15040214],\n",
       "       [ 1.23295964,  7.11746351,  2.16815504,  3.49063151],\n",
       "       [ 2.40877419,  7.7751678 ,  0.84237452,  4.25353995],\n",
       "       [ 2.95081075,  7.85409484,  0.22813694,  4.45601768],\n",
       "       [ 2.20556983,  7.22380227,  0.97310921,  3.7375613 ],\n",
       "       [ 4.7153106 ,  9.26574762,  1.61871869,  6.08768478],\n",
       "       [ 1.52545868,  7.90413162,  2.87982227,  4.26376016],\n",
       "       [ 2.72021615,  7.39009299,  0.66400793,  4.01972615],\n",
       "       [ 1.84593554,  7.56357477,  1.49203199,  3.96342284],\n",
       "       [ 2.94442671,  8.51931041,  0.95705205,  4.9818274 ],\n",
       "       [ 2.61606082,  8.63770452,  1.72044526,  5.01088654],\n",
       "       [ 5.02307971,  9.36270703,  1.91987203,  6.27093432],\n",
       "       [ 4.75103843,  8.89869435,  1.7021581 ,  5.85095527],\n",
       "       [ 3.0143693 ,  8.66231092,  1.05764523,  5.1105649 ],\n",
       "       [ 3.85111968,  8.69577622,  0.76637863,  5.37793043],\n",
       "       [ 3.91203971,  9.14634748,  1.15741677,  5.7285329 ],\n",
       "       [ 3.76661439,  9.29135968,  1.36879128,  5.79403486],\n",
       "       [ 3.74195558,  8.78887159,  0.76731025,  5.41113787],\n",
       "       [ 3.71726087,  9.28121115,  1.36862427,  5.77095856],\n",
       "       [ 4.05612614,  8.7162121 ,  0.95413447,  5.46279551],\n",
       "       [ 1.48521782,  7.75059853,  3.42963927,  4.17048103],\n",
       "       [ 3.38216826,  8.6510959 ,  0.68580151,  5.1976232 ],\n",
       "       [ 2.78136598,  7.46740566,  0.5932462 ,  4.10017642],\n",
       "       [ 2.78272568,  7.70909904,  0.36774825,  4.29374408],\n",
       "       [ 3.40928204,  8.38818123,  0.37774762,  5.00863938],\n",
       "       [ 3.82068733,  7.24393309,  1.61171915,  4.3205207 ],\n",
       "       [ 2.56840076,  8.20757447,  1.0942881 ,  4.64475398],\n",
       "       [ 3.02123895,  8.00084173,  0.43830776,  4.59651403],\n",
       "       [ 3.26682716,  9.05515658,  1.44614092,  5.48165324],\n",
       "       [ 5.65866723,  9.58977433,  2.59576891,  6.67966753],\n",
       "       [ 4.10818571,  9.61765146,  1.64354629,  6.13271197],\n",
       "       [ 4.0434567 ,  9.19409494,  1.16206988,  5.80335942],\n",
       "       [ 2.85379905,  8.67865479,  1.33572165,  5.08853748],\n",
       "       [ 2.1269896 ,  8.0325948 ,  1.49810966,  4.41433721],\n",
       "       [ 3.72870424,  9.17403946,  1.22003225,  5.69442921],\n",
       "       [ 2.23106456,  7.7388073 ,  0.96758794,  4.17854613],\n",
       "       [ 2.56748334,  7.16194828,  0.9887079 ,  3.78624316],\n",
       "       [ 3.14741745,  7.27497809,  1.03414082,  4.07116548],\n",
       "       [ 2.25866729,  6.45462519,  1.62026677,  3.08721566],\n",
       "       [ 1.23564938,  7.06243382,  1.95457556,  3.42403216],\n",
       "       [ 0.95782251,  7.17088686,  2.43632459,  3.5111274 ],\n",
       "       [ 3.2532844 ,  7.65185762,  0.65663879,  4.3976476 ],\n",
       "       [ 1.01877306,  7.37607445,  2.91624368,  3.7379118 ],\n",
       "       [ 3.02007034,  8.85319081,  1.41314531,  5.26453141],\n",
       "       [ 6.0994305 ,  8.66473139,  3.4902979 ,  6.32002209],\n",
       "       [ 1.87319716,  7.4222113 ,  1.26206367,  3.83508225],\n",
       "       [ 1.85650293,  7.70899907,  1.49140785,  4.08492081],\n",
       "       [ 3.0724054 ,  8.72442393,  1.09086055,  5.17419076],\n",
       "       [ 5.90883529,  8.11614634,  3.53441477,  5.90052059],\n",
       "       [ 2.08566975,  7.9992492 ,  1.47568422,  4.37526153],\n",
       "       [ 3.44709804,  7.79827507,  0.70189772,  4.57732801]])"
      ]
     },
     "execution_count": 43,
     "metadata": {},
     "output_type": "execute_result"
    }
   ],
   "source": [
    "result"
   ]
  },
  {
   "cell_type": "markdown",
   "metadata": {},
   "source": [
    "Your model is now trained. Print cluster centers\n"
   ]
  },
  {
   "cell_type": "code",
   "execution_count": 33,
   "metadata": {
    "tags": []
   },
   "outputs": [
    {
     "data": {
      "text/plain": [
       "array([[ 8234.99093656,  3824.33836858,  5322.42296073,  2568.73716012],\n",
       "       [35941.4       ,  6044.45      ,  6288.61666667,  6713.96666667],\n",
       "       [ 8119.69387755, 18812.93877551, 27745.36734694,  2011.42857143]])"
      ]
     },
     "execution_count": 33,
     "metadata": {},
     "output_type": "execute_result"
    }
   ],
   "source": [
    "cluster.cluster_centers_"
   ]
  },
  {
   "cell_type": "markdown",
   "metadata": {},
   "source": [
    "## Task 4 - Make Predictions\n"
   ]
  },
  {
   "cell_type": "markdown",
   "metadata": {},
   "source": [
    "Make the predictions and save them into the column \"cluster_number\"\n"
   ]
  },
  {
   "cell_type": "code",
   "execution_count": 34,
   "metadata": {
    "tags": []
   },
   "outputs": [],
   "source": [
    "df['cluster_number'] = cluster.predict(df)"
   ]
  },
  {
   "cell_type": "code",
   "execution_count": 35,
   "metadata": {
    "tags": []
   },
   "outputs": [
    {
     "data": {
      "text/html": [
       "<div>\n",
       "<style scoped>\n",
       "    .dataframe tbody tr th:only-of-type {\n",
       "        vertical-align: middle;\n",
       "    }\n",
       "\n",
       "    .dataframe tbody tr th {\n",
       "        vertical-align: top;\n",
       "    }\n",
       "\n",
       "    .dataframe thead th {\n",
       "        text-align: right;\n",
       "    }\n",
       "</style>\n",
       "<table border=\"1\" class=\"dataframe\">\n",
       "  <thead>\n",
       "    <tr style=\"text-align: right;\">\n",
       "      <th></th>\n",
       "      <th>Fresh_Food</th>\n",
       "      <th>Milk</th>\n",
       "      <th>Grocery</th>\n",
       "      <th>Frozen_Food</th>\n",
       "      <th>cluster_number</th>\n",
       "    </tr>\n",
       "  </thead>\n",
       "  <tbody>\n",
       "    <tr>\n",
       "      <th>215</th>\n",
       "      <td>2806</td>\n",
       "      <td>10765</td>\n",
       "      <td>15538</td>\n",
       "      <td>1374</td>\n",
       "      <td>0</td>\n",
       "    </tr>\n",
       "    <tr>\n",
       "      <th>421</th>\n",
       "      <td>17063</td>\n",
       "      <td>4847</td>\n",
       "      <td>9053</td>\n",
       "      <td>1031</td>\n",
       "      <td>0</td>\n",
       "    </tr>\n",
       "    <tr>\n",
       "      <th>149</th>\n",
       "      <td>31812</td>\n",
       "      <td>1433</td>\n",
       "      <td>1651</td>\n",
       "      <td>800</td>\n",
       "      <td>1</td>\n",
       "    </tr>\n",
       "    <tr>\n",
       "      <th>329</th>\n",
       "      <td>5113</td>\n",
       "      <td>1486</td>\n",
       "      <td>4583</td>\n",
       "      <td>5127</td>\n",
       "      <td>0</td>\n",
       "    </tr>\n",
       "    <tr>\n",
       "      <th>41</th>\n",
       "      <td>19176</td>\n",
       "      <td>3065</td>\n",
       "      <td>5956</td>\n",
       "      <td>2033</td>\n",
       "      <td>0</td>\n",
       "    </tr>\n",
       "  </tbody>\n",
       "</table>\n",
       "</div>"
      ],
      "text/plain": [
       "     Fresh_Food   Milk  Grocery  Frozen_Food  cluster_number\n",
       "215        2806  10765    15538         1374               0\n",
       "421       17063   4847     9053         1031               0\n",
       "149       31812   1433     1651          800               1\n",
       "329        5113   1486     4583         5127               0\n",
       "41        19176   3065     5956         2033               0"
      ]
     },
     "execution_count": 35,
     "metadata": {},
     "output_type": "execute_result"
    }
   ],
   "source": [
    "df.sample(5)"
   ]
  },
  {
   "cell_type": "markdown",
   "metadata": {},
   "source": [
    "Print the cluster numbers and the number of customers in each cluster\n"
   ]
  },
  {
   "cell_type": "code",
   "execution_count": 36,
   "metadata": {
    "tags": []
   },
   "outputs": [
    {
     "data": {
      "text/plain": [
       "0    331\n",
       "1     60\n",
       "2     49\n",
       "Name: cluster_number, dtype: int64"
      ]
     },
     "execution_count": 36,
     "metadata": {},
     "output_type": "execute_result"
    }
   ],
   "source": [
    "df.cluster_number.value_counts()"
   ]
  },
  {
   "cell_type": "markdown",
   "metadata": {},
   "source": [
    "# Exercises\n"
   ]
  },
  {
   "cell_type": "markdown",
   "metadata": {},
   "source": [
    "### Exercise 1 - Load the data in a csv file into a dataframe\n"
   ]
  },
  {
   "cell_type": "code",
   "execution_count": 38,
   "metadata": {
    "tags": []
   },
   "outputs": [],
   "source": [
    "URL2 = \"https://cf-courses-data.s3.us.cloud-object-storage.appdomain.cloud/IBM-BD0231EN-SkillsNetwork/datasets/seeds.csv\"\n"
   ]
  },
  {
   "cell_type": "markdown",
   "metadata": {},
   "source": [
    "Load the seeds dataset available at URL2\n"
   ]
  },
  {
   "cell_type": "code",
   "execution_count": 39,
   "metadata": {
    "tags": []
   },
   "outputs": [],
   "source": [
    "df2 = pd.read_csv(URL2)"
   ]
  },
  {
   "cell_type": "markdown",
   "metadata": {},
   "source": [
    "<details>\n",
    "    <summary>Click here for a Hint</summary>\n",
    "    \n",
    "Use the read_csv function\n",
    "\n",
    "</details>\n"
   ]
  },
  {
   "cell_type": "markdown",
   "metadata": {},
   "source": [
    "<details>\n",
    "    <summary>Click here for Solution</summary>\n",
    "\n",
    "```python\n",
    "df2 = pd.read_csv(URL2)\n",
    "```\n",
    "\n",
    "</details>\n"
   ]
  },
  {
   "cell_type": "markdown",
   "metadata": {},
   "source": [
    "### Exercise 2 - Decide how many clusters to create\n"
   ]
  },
  {
   "cell_type": "markdown",
   "metadata": {},
   "source": [
    "Cluster the data into 4 clusters\n"
   ]
  },
  {
   "cell_type": "code",
   "execution_count": 40,
   "metadata": {
    "tags": []
   },
   "outputs": [],
   "source": [
    "number_of_clusters = 4"
   ]
  },
  {
   "cell_type": "markdown",
   "metadata": {},
   "source": [
    "<details>\n",
    "    <summary>Click here for a Hint</summary>\n",
    "    \n",
    "set the variable number_of_clusters\n",
    "</details>\n"
   ]
  },
  {
   "cell_type": "markdown",
   "metadata": {},
   "source": [
    "<details>\n",
    "    <summary>Click here for Solution</summary>\n",
    "\n",
    "```python\n",
    "number_of_clusters = 4\n",
    "```\n",
    "\n",
    "</details>\n"
   ]
  },
  {
   "cell_type": "markdown",
   "metadata": {},
   "source": [
    "### Exercise 3 - Create a clustering model\n"
   ]
  },
  {
   "cell_type": "markdown",
   "metadata": {},
   "source": [
    "Create a clustering model and train it using the data in the dataframe\n"
   ]
  },
  {
   "cell_type": "code",
   "execution_count": 41,
   "metadata": {
    "tags": []
   },
   "outputs": [],
   "source": [
    "cluster = KMeans(n_clusters = number_of_clusters)\n",
    "result = cluster.fit_transform(df2)"
   ]
  },
  {
   "cell_type": "markdown",
   "metadata": {},
   "source": [
    "<details>\n",
    "    <summary>Click here for a Hint</summary>\n",
    "    \n",
    "use the fit_transform of KMeans\n",
    "</details>\n"
   ]
  },
  {
   "cell_type": "markdown",
   "metadata": {},
   "source": [
    "<details>\n",
    "    <summary>Click here for Solution</summary>\n",
    "\n",
    "```python\n",
    "cluster = KMeans(n_clusters = number_of_clusters)\n",
    "result = cluster.fit_transform(df2)\n",
    "```\n",
    "\n",
    "</details>\n"
   ]
  },
  {
   "cell_type": "code",
   "execution_count": 44,
   "metadata": {
    "tags": []
   },
   "outputs": [
    {
     "name": "stdout",
     "output_type": "stream",
     "text": [
      "[[13.39108696 13.86521739  0.87424565  5.366       3.11428261  2.41580652\n",
      "   4.99067391]\n",
      " [18.96296296 16.39666667  0.88595185  6.24272222  3.74992593  3.54033333\n",
      "   6.10077778]\n",
      " [11.91439394 13.26151515  0.85024242  5.23122727  2.86393939  5.06828788\n",
      "   5.10534848]\n",
      " [15.71909091 14.97659091  0.88038636  5.74518182  3.3985      3.18704773\n",
      "   5.44838636]]\n"
     ]
    }
   ],
   "source": [
    "print(cluster.cluster_centers_)"
   ]
  },
  {
   "cell_type": "markdown",
   "metadata": {},
   "source": [
    "### Exercise 4 - Make Predictions\n"
   ]
  },
  {
   "cell_type": "markdown",
   "metadata": {},
   "source": [
    "Make the predictions and save them into the column \"cluster_number\"\n"
   ]
  },
  {
   "cell_type": "code",
   "execution_count": 45,
   "metadata": {
    "tags": []
   },
   "outputs": [],
   "source": [
    "#your code goes here\n",
    "df2['cluster_number'] = cluster.predict(df2)"
   ]
  },
  {
   "cell_type": "markdown",
   "metadata": {},
   "source": [
    "<details>\n",
    "    <summary>Click here for a Hint</summary>\n",
    "    \n",
    "use cluster.predict\n",
    "</details>\n"
   ]
  },
  {
   "cell_type": "markdown",
   "metadata": {},
   "source": [
    "<details>\n",
    "    <summary>Click here for Solution</summary>\n",
    "\n",
    "```python\n",
    "df2['cluster_number'] = cluster.predict(df2)\n",
    "\n",
    "```\n",
    "\n",
    "</details>\n"
   ]
  },
  {
   "cell_type": "code",
   "execution_count": 46,
   "metadata": {
    "tags": []
   },
   "outputs": [
    {
     "data": {
      "text/html": [
       "<div>\n",
       "<style scoped>\n",
       "    .dataframe tbody tr th:only-of-type {\n",
       "        vertical-align: middle;\n",
       "    }\n",
       "\n",
       "    .dataframe tbody tr th {\n",
       "        vertical-align: top;\n",
       "    }\n",
       "\n",
       "    .dataframe thead th {\n",
       "        text-align: right;\n",
       "    }\n",
       "</style>\n",
       "<table border=\"1\" class=\"dataframe\">\n",
       "  <thead>\n",
       "    <tr style=\"text-align: right;\">\n",
       "      <th></th>\n",
       "      <th>area</th>\n",
       "      <th>perimeter</th>\n",
       "      <th>compactness</th>\n",
       "      <th>length of kernel</th>\n",
       "      <th>width of kernel</th>\n",
       "      <th>asymmetry coefficient</th>\n",
       "      <th>length of kernel groove</th>\n",
       "      <th>cluster_number</th>\n",
       "    </tr>\n",
       "  </thead>\n",
       "  <tbody>\n",
       "    <tr>\n",
       "      <th>166</th>\n",
       "      <td>12.44</td>\n",
       "      <td>13.59</td>\n",
       "      <td>0.8462</td>\n",
       "      <td>5.319</td>\n",
       "      <td>2.897</td>\n",
       "      <td>4.924</td>\n",
       "      <td>5.270</td>\n",
       "      <td>2</td>\n",
       "    </tr>\n",
       "    <tr>\n",
       "      <th>201</th>\n",
       "      <td>12.67</td>\n",
       "      <td>13.32</td>\n",
       "      <td>0.8977</td>\n",
       "      <td>4.984</td>\n",
       "      <td>3.135</td>\n",
       "      <td>2.300</td>\n",
       "      <td>4.745</td>\n",
       "      <td>0</td>\n",
       "    </tr>\n",
       "    <tr>\n",
       "      <th>81</th>\n",
       "      <td>18.72</td>\n",
       "      <td>16.19</td>\n",
       "      <td>0.8977</td>\n",
       "      <td>6.006</td>\n",
       "      <td>3.857</td>\n",
       "      <td>5.324</td>\n",
       "      <td>5.879</td>\n",
       "      <td>1</td>\n",
       "    </tr>\n",
       "    <tr>\n",
       "      <th>14</th>\n",
       "      <td>13.74</td>\n",
       "      <td>14.05</td>\n",
       "      <td>0.8744</td>\n",
       "      <td>5.482</td>\n",
       "      <td>3.114</td>\n",
       "      <td>2.932</td>\n",
       "      <td>4.825</td>\n",
       "      <td>0</td>\n",
       "    </tr>\n",
       "    <tr>\n",
       "      <th>184</th>\n",
       "      <td>12.89</td>\n",
       "      <td>13.77</td>\n",
       "      <td>0.8541</td>\n",
       "      <td>5.495</td>\n",
       "      <td>3.026</td>\n",
       "      <td>6.185</td>\n",
       "      <td>5.316</td>\n",
       "      <td>2</td>\n",
       "    </tr>\n",
       "  </tbody>\n",
       "</table>\n",
       "</div>"
      ],
      "text/plain": [
       "      area  perimeter  compactness  length of kernel  width of kernel  \\\n",
       "166  12.44      13.59       0.8462             5.319            2.897   \n",
       "201  12.67      13.32       0.8977             4.984            3.135   \n",
       "81   18.72      16.19       0.8977             6.006            3.857   \n",
       "14   13.74      14.05       0.8744             5.482            3.114   \n",
       "184  12.89      13.77       0.8541             5.495            3.026   \n",
       "\n",
       "     asymmetry coefficient  length of kernel groove  cluster_number  \n",
       "166                  4.924                    5.270               2  \n",
       "201                  2.300                    4.745               0  \n",
       "81                   5.324                    5.879               1  \n",
       "14                   2.932                    4.825               0  \n",
       "184                  6.185                    5.316               2  "
      ]
     },
     "execution_count": 46,
     "metadata": {},
     "output_type": "execute_result"
    }
   ],
   "source": [
    "df2.sample(5)"
   ]
  },
  {
   "cell_type": "markdown",
   "metadata": {},
   "source": [
    "Print the cluster numbers and the number of seeds in each cluster\n"
   ]
  },
  {
   "cell_type": "code",
   "execution_count": 49,
   "metadata": {
    "tags": []
   },
   "outputs": [
    {
     "data": {
      "text/plain": [
       "2    66\n",
       "1    54\n",
       "0    46\n",
       "3    44\n",
       "Name: cluster_number, dtype: int64"
      ]
     },
     "execution_count": 49,
     "metadata": {},
     "output_type": "execute_result"
    }
   ],
   "source": [
    "#your code goes here\n",
    "df2['cluster_number'].value_counts()"
   ]
  },
  {
   "cell_type": "markdown",
   "metadata": {},
   "source": [
    "<details>\n",
    "    <summary>Click here for a Hint</summary>\n",
    "    \n",
    "use the value_counts() method on cluster_number column\n",
    "</details>\n"
   ]
  },
  {
   "cell_type": "markdown",
   "metadata": {},
   "source": [
    "<details>\n",
    "    <summary>Click here for Solution</summary>\n",
    "\n",
    "```python\n",
    "df2.cluster_number.value_counts()\n",
    "\n",
    "```\n",
    "\n",
    "</details>\n"
   ]
  },
  {
   "cell_type": "markdown",
   "metadata": {},
   "source": [
    "Congratulations you have completed this lab.<br>\n"
   ]
  },
  {
   "cell_type": "markdown",
   "metadata": {},
   "source": [
    "## Authors\n"
   ]
  },
  {
   "cell_type": "markdown",
   "metadata": {},
   "source": [
    "[Ramesh Sannareddy](https://www.linkedin.com/in/rsannareddy/?utm_medium=Exinfluencer&utm_source=Exinfluencer&utm_content=000026UJ&utm_term=10006555&utm_id=NA-SkillsNetwork-Channel-SkillsNetworkCoursesIBMBD0231ENSkillsNetwork866-2023-01-01)\n"
   ]
  },
  {
   "cell_type": "markdown",
   "metadata": {},
   "source": [
    "## Contributors\n",
    "[Vicky Kuo](https://author.skills.network/instructors/vicky_kuo?utm_medium=Exinfluencer&utm_source=Exinfluencer&utm_content=000026UJ&utm_term=10006555&utm_id=NA-SkillsNetwork-Channel-SkillsNetworkCoursesIBMBD0231ENSkillsNetwork866-2023-01-01)\n"
   ]
  },
  {
   "cell_type": "markdown",
   "metadata": {},
   "source": [
    "## Change Log\n"
   ]
  },
  {
   "cell_type": "markdown",
   "metadata": {},
   "source": [
    "|Date (YYYY-MM-DD)|Version|Changed By|Change Description|\n",
    "|-|-|-|-|\n",
    "|2023-04-14|0.1|Ramesh Sannareddy|Initial Version Created|\n",
    "|2023-06-20|0.3|Vicky Kuo|Proofreading|\n"
   ]
  },
  {
   "cell_type": "markdown",
   "metadata": {},
   "source": [
    "Copyright © 2023 IBM Corporation. All rights reserved.\n"
   ]
  }
 ],
 "metadata": {
  "kernelspec": {
   "display_name": "Python",
   "language": "python",
   "name": "conda-env-python-py"
  },
  "language_info": {
   "codemirror_mode": {
    "name": "ipython",
    "version": 3
   },
   "file_extension": ".py",
   "mimetype": "text/x-python",
   "name": "python",
   "nbconvert_exporter": "python",
   "pygments_lexer": "ipython3",
   "version": "3.7.12"
  }
 },
 "nbformat": 4,
 "nbformat_minor": 4
}
